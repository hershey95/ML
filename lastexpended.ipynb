{
  "cells": [
    {
      "cell_type": "code",
      "source": [
        "from google.colab import drive\n",
        "drive.mount('/content/drive')"
      ],
      "metadata": {
        "colab": {
          "base_uri": "https://localhost:8080/"
        },
        "id": "OZglwoM-W1my",
        "outputId": "5e6ae7e4-37a7-49e9-8984-3a6f55be8d9e"
      },
      "id": "OZglwoM-W1my",
      "execution_count": 182,
      "outputs": [
        {
          "output_type": "stream",
          "name": "stdout",
          "text": [
            "Drive already mounted at /content/drive; to attempt to forcibly remount, call drive.mount(\"/content/drive\", force_remount=True).\n"
          ]
        }
      ]
    },
    {
      "cell_type": "code",
      "execution_count": 183,
      "id": "5f112b05",
      "metadata": {
        "id": "5f112b05"
      },
      "outputs": [],
      "source": [
        "import numpy as np\n",
        "\n",
        "# mnist_test.npz 파일 로드\n",
        "mnist_handdata = np.load('/content/drive/MyDrive/Colab Notebooks/mnist_handmade_dataset folder/digit_data_TrVal.npz')\n",
        "\n",
        "# 테스트 데이터 추출\n",
        "X = mnist_handdata['img']\n",
        "y = mnist_handdata['label']\n",
        "y_labels=set(y)"
      ]
    },
    {
      "cell_type": "code",
      "execution_count": 184,
      "id": "e31d4a85",
      "metadata": {
        "id": "e31d4a85"
      },
      "outputs": [],
      "source": [
        "batch_size=X.shape[0]\n",
        "input_dim=X.shape[1]*X.shape[2]\n",
        "X=np.reshape(X,(batch_size,input_dim))"
      ]
    },
    {
      "cell_type": "code",
      "execution_count": 185,
      "id": "a7d01c6a",
      "metadata": {
        "id": "a7d01c6a"
      },
      "outputs": [],
      "source": [
        "operation=['+','-','x','/','=']"
      ]
    },
    {
      "cell_type": "code",
      "execution_count": 186,
      "id": "83fdc96b",
      "metadata": {
        "id": "83fdc96b"
      },
      "outputs": [],
      "source": [
        "# Create a list to store incorrect indices\n",
        "incorrect_indices = []\n",
        "\n",
        "# Loop through each operator in the operation list\n",
        "for op in operation:\n",
        "    # Find indices where y is equal to the current operator\n",
        "    indices = np.where(y == op)[0]\n",
        "\n",
        "    # Append the found indices to the incorrect_indices list\n",
        "    incorrect_indices.extend(indices)"
      ]
    },
    {
      "cell_type": "code",
      "execution_count": 187,
      "id": "41c1fd9d",
      "metadata": {
        "colab": {
          "base_uri": "https://localhost:8080/"
        },
        "id": "41c1fd9d",
        "outputId": "70d812ee-ac57-4ff6-c064-af4b41804c6f"
      },
      "outputs": [
        {
          "output_type": "stream",
          "name": "stdout",
          "text": [
            "(14498, 784) (14498,)\n"
          ]
        }
      ],
      "source": [
        "incorrect_indices_train = list(set(incorrect_indices))\n",
        "x_train_op= X[incorrect_indices_train]\n",
        "x_train_digit = np.delete(X, incorrect_indices_train, axis=0)\n",
        "y_train_digit = np.delete(y, incorrect_indices_train, axis=0)\n",
        "\n",
        "print(x_train_digit.shape, y_train_digit.shape)"
      ]
    },
    {
      "cell_type": "code",
      "execution_count": 188,
      "id": "ecce9a90",
      "metadata": {
        "id": "ecce9a90"
      },
      "outputs": [],
      "source": [
        "indices_list = [\n",
        "    [15, 463, 797, 1449, 1594, 1639, 1891, 3444, 3517, 3745, 3859, 4145, 4311, 4381, 4552, 4836, 5287, 5558, 5976, 6866, 7303, 7504, 7561, 8428, 9160, 9396],\n",
        "    [1038, 618, 1406, 1563, 1710, 2154, 2440, 3739, 3870, 5131, 5251, 5755, 6583, 6585, 6919, 7329, 7630, 8907, 8967, 9437, 9704, 9934],\n",
        "    [40, 660, 837, 1383, 1393, 2734, 3178, 4394, 4750, 4774, 4786, 4826, 5156, 5857, 6251, 7382, 7413, 7941, 8134, 9186, 9218, 9243, 9404, 9414, 9696, 9941, 10014, 10117],\n",
        "    [2, 236, 449, 742, 1139, 1734, 2325, 2479, 2651, 2932, 3131, 3880, 3990, 3997, 4039, 4244, 4427, 4687, 5050, 5118, 5341, 6540, 7102, 7120, 7308, 7751, 8314, 9247],\n",
        "    [393, 442, 527, 601, 995, 1313, 1672, 1800, 2072, 2128, 2169, 2251, 2849, 3117, 3151, 3265, 3713, 4091, 4264, 4310, 4805, 4913, 5073, 5291, 5461, 6275, 6410, 6511, 6747, 7547, 8014, 8530, 8569, 8780, 8807, 8935, 9291, 9401, 9685, 9715, 10051, 10088],\n",
        "    [133,262,461,493, 726,901, 1021, 1094,1174, 1183,1233, 1402, 1447,1660,1674, 1789,1802,1821,2142, 2394,2502, 2695,3024, 3317, 3367, 3486, 3701, 4238,4503, 4617, 4787, 4789,4856, 4897,5016, 5347, 5511,5598,5772, 6021, 6063, 6178, 6533, 6790, 6805,6854,6908, 6952,7146, 7368,7537, 7643,7676, 7699,7722, 8164, 8355, 8649, 8991, 9287, 9381,9782, 9928],\n",
        "    [131, 178, 1096,1296, 1414, 1417, 1460,1473, 1993, 2104,2187, 2358, 2976, 3033, 3045,3280, 3293,3467, 3509, 3568,3644, 3878, 4097, 4240, 4538, 4608, 5196, 5240, 5435, 5515, 5749,5765, 5834, 6147,6194,6234,6402, 6405, 6502, 6662, 6911, 6944, 7272, 7358,7586, 8044, 8696, 9003, 9141, 9205, 9407, 9619, 10052],\n",
        "    [90,133, 256, 435, 951,1174, 1322, 1553,1660,1674,1802, 1815,1821, 2082, 2453, 2498, 2501,2502, 2596,3024, 3826, 3833, 4454, 4653, 4663, 4833,4856,5016,5598, 6319, 6328, 6434, 6728,7146, 7237, 7463, 7464,7537, 7722, 8456, 8717, 8993, 9095, 9238, 9296, 9792, 10024],\n",
        "    [308,384, 451, 494, 676,728, 801, 928,1070, 1075,1191, 1389,1477, 1535, 1750, 2059,2255,2463,2784,3321, 3663, 3764,3867,3988, 4367, 4893, 5111, 5542, 5642, 5763, 6168, 6191,6247,6300, 6306, 6368, 6556, 6581,6595, 6708, 6758,6884,6900,7280, 7951, 8133, 8481, 8704,8749,8802, 9980,10007],\n",
        "    [33,277, 322, 418, 1206, 1227,1240, 1443, 1957, 2125, 2447,2638,2747, 3017, 3409,3793, 3795, 4033, 4103,4737, 4884, 4927, 4943, 5058,5115, 5129, 5150, 5801, 6056, 6066, 6391,6647, 6677,6746,6834,7153,7213, 8174, 8200, 8287, 8590,8655,8989, 8933, 9574, 9843, 9962],\n",
        "[367,567,932,1368,1448,1454,1557,1715,1826,2075,2394,2424,2438,2476,2749,2843,2846,3078,3167,3208,\n",
        "3251,3502,3588,3741,3864,4076,4229,4405,4576,4661,4852,4982,5563,6197,6481,6538,6733,\n",
        "6911,7308,7412,7685,7722,7976,8090,8440,8457,9076,9600,9616,10058,524,\n",
        "788,809,892,1023,1042,1956,2433,2633,3111,3125,3350,3971,4296,4493,4540,4715,5402,5511,\n",
        "5891,6565,7278,7384,7409,8262,8827,9625,10164,10225,10267,10428,10501,\n",
        "10620,10775,11211,11446,12226,12448,13257,13472,13519,13922,13983,14104,447,\n",
        "667,747,824,833,1027,1275,1654,1657,2193,2272,2556,2602,2603,2839,2964,3513,3523,3675,3782,3995,\n",
        "4095,4646,4790,4808,5036,5068,5143,5374,5391,5584,5704,5715,6307,6605,6637,6801,\n",
        "6959,6960,7128,7430,8030,8062,8113,8632,8705,8728,8758,8786,9450,9662,9930,\n",
        "10002,10767,10997,11151,11519,11803,11982,12009,12138,12730,12918,13004,13341,\n",
        "13418,13523,13529,13659,13996,238,402,430,855,1228,1335,1388,1872,1927,2061,\n",
        "2126,2274,2319,2447,2544,2676,2713,2738,3114,3150,3415,3688,3673,3840,\n",
        "3899,3991,4000,4053,4245,4488,4785,4795,4835,4895,4921,5060,5331,5364,\n",
        "5613,5902,6016,6038,6118,6154,6512,6925,6985,7018,7107,7382,7468,7789,7916,8009,\n",
        "8063,8333,8468,8513,8592,8616,8686,8856,8887,9072,9185,9222,9476,10260,\n",
        "10506,10683,10746,10976,11089,11362,12290,12350,12556,12575,12613,12802,\n",
        "12901,13021,13083,13258,13412,13439,13526,13708,\n",
        "42,194,248,692,751,766,812,919,925,1025,1237,1267,1470,1597,1664,1692,\n",
        "2258,2299,2528,2709,2844,3116,3345,3399,3468,3535,3575,3821,3885,3886,3936,4167,\n",
        "4490,4623,4700,4889,4984,5235,5324,5653,5864,6061,6239,6253,6363,6671,6694,6818,\n",
        "7298,7524,8013,8103,8341,8542,8654,8670,8999,9320,9547,9669,9679,9777,9789,10040,10128,\n",
        "10228,10246,10263,10324,10660,10788,11155,11448,11502,11557,11752,11766,12018,12196,\n",
        "12568,12776,13105,13366,13382,13642,13652,13939,14133]]\n",
        "flat_data_array = np.concatenate(indices_list, axis=0)"
      ]
    },
    {
      "cell_type": "code",
      "execution_count": 189,
      "id": "a8d867e9",
      "metadata": {
        "colab": {
          "base_uri": "https://localhost:8080/"
        },
        "id": "a8d867e9",
        "outputId": "1c7c4648-ca0b-4858-c62d-378ab0f0c659"
      },
      "outputs": [
        {
          "output_type": "stream",
          "name": "stdout",
          "text": [
            "(13771, 784) (13771,)\n"
          ]
        }
      ],
      "source": [
        "import numpy as np\n",
        "\n",
        "# indices_list를 하나의 리스트로 펼치기\n",
        "flat_indices = np.concatenate(indices_list, axis=0)\n",
        "\n",
        "# 중복 제거\n",
        "unique_indices = np.unique(flat_indices)\n",
        "\n",
        "# 중복 제거된 인덱스를 사용하여 X 및 y 수정\n",
        "x_train_digit = np.delete(x_train_digit, unique_indices, axis=0)\n",
        "y_train_digit = np.delete(y_train_digit, unique_indices, axis=0)\n",
        "\n",
        "print(x_train_digit.shape, y_train_digit.shape)"
      ]
    },
    {
      "cell_type": "markdown",
      "source": [
        "Shifting class"
      ],
      "metadata": {
        "id": "ZNb4B1bmTC1E"
      },
      "id": "ZNb4B1bmTC1E"
    },
    {
      "cell_type": "code",
      "execution_count": 190,
      "id": "82b7104d",
      "metadata": {
        "id": "82b7104d"
      },
      "outputs": [],
      "source": [
        "import numpy as np\n",
        "import random\n",
        "import matplotlib.pyplot as plt\n",
        "import numpy as np\n",
        "from sklearn.datasets import fetch_openml\n",
        "\n",
        "class ImagePositioner:\n",
        "    def __init__(self, image):\n",
        "        self.image = image\n",
        "        self.pured_image = self.pure_image(self.image)\n",
        "\n",
        "    def pure_image(self, image):\n",
        "        threshold = image > 0.00001\n",
        "        coords = np.argwhere(threshold)\n",
        "\n",
        "        if len(coords) > 0.0:\n",
        "            top_coord = coords[coords[:, 0].argmin()]\n",
        "            bottom_coord = coords[coords[:, 0].argmax()]\n",
        "            left_coord = coords[coords[:, 1].argmin()]\n",
        "            right_coord = coords[coords[:, 1].argmax()]\n",
        "\n",
        "            x_min = min(top_coord[0], bottom_coord[0])\n",
        "            x_max = max(top_coord[0], bottom_coord[0])\n",
        "            y_min = min(left_coord[1], right_coord[1])\n",
        "            y_max = max(left_coord[1], right_coord[1])\n",
        "\n",
        "            pure_image = image[x_min:x_max+1, y_min:y_max+1]\n",
        "            return pure_image\n",
        "        else:\n",
        "            return None\n",
        "\n",
        "    def center_image(self):\n",
        "        if self.pured_image is not None:\n",
        "            final_image = np.zeros((28, 28))\n",
        "            start_x = (28 - self.pured_image.shape[0]) // 2\n",
        "            start_y = (28 - self.pured_image.shape[1]) // 2\n",
        "            final_image[start_x:start_x + self.pured_image.shape[0],\n",
        "                        start_y:start_y + self.pured_image.shape[1]] = self.pured_image\n",
        "            return final_image\n",
        "        else:\n",
        "            return None\n",
        "\n",
        "    def top_image(self):\n",
        "        if self.pured_image is not None:\n",
        "            final_image = np.zeros((28, 28))\n",
        "            start_x = 0\n",
        "            start_y = (28 - self.pured_image.shape[1]) // 2\n",
        "            final_image[start_x:start_x + self.pured_image.shape[0],\n",
        "                        start_y:start_y + self.pured_image.shape[1]] = self.pured_image\n",
        "            return final_image\n",
        "        else:\n",
        "            return None\n",
        "\n",
        "    def bottom_image(self):\n",
        "        if self.pured_image is not None:\n",
        "            final_image = np.zeros((28, 28))\n",
        "            start_x = (28 - self.pured_image.shape[0])\n",
        "            start_y = (28 - self.pured_image.shape[1]) // 2\n",
        "            final_image[start_x:start_x + self.pured_image.shape[0],\n",
        "                        start_y:start_y + self.pured_image.shape[1]] = self.pured_image\n",
        "            return final_image\n",
        "        else:\n",
        "            return None\n",
        "\n",
        "    def left_image(self):\n",
        "        if self.pured_image is not None:\n",
        "            final_image = np.zeros((28, 28))\n",
        "            start_x = (28 - self.pured_image.shape[0]) // 2\n",
        "            start_y = 0\n",
        "            final_image[start_x:start_x + self.pured_image.shape[0],\n",
        "                        start_y:start_y + self.pured_image.shape[1]] = self.pured_image\n",
        "            return final_image\n",
        "        else:\n",
        "            return None\n",
        "\n",
        "    def right_image(self):\n",
        "        if self.pured_image is not None:\n",
        "            final_image = np.zeros((28, 28))\n",
        "            start_x = (28 - self.pured_image.shape[0]) // 2\n",
        "            start_y = (28 - self.pured_image.shape[1])\n",
        "            final_image[start_x:start_x + self.pured_image.shape[0],\n",
        "                        start_y:start_y + self.pured_image.shape[1]] = self.pured_image\n",
        "            return final_image\n",
        "        else:\n",
        "            return None\n",
        "\n",
        "    def random_image(self):\n",
        "        if self.pured_image is not None:\n",
        "            final_image = np.zeros((28, 28))\n",
        "            max_x_start = 28 - self.pured_image.shape[0]\n",
        "            max_y_start = 28 - self.pured_image.shape[1]\n",
        "            start_x = random.randint(0, max_x_start)\n",
        "            start_y = random.randint(0, max_y_start)\n",
        "            final_image[start_x:start_x + self.pured_image.shape[0],\n",
        "                        start_y:start_y + self.pured_image.shape[1]] = self.pured_image\n",
        "            return final_image\n",
        "        else:\n",
        "            return None\n"
      ]
    },
    {
      "cell_type": "markdown",
      "source": [
        "데이터 추가하는 코드"
      ],
      "metadata": {
        "id": "Rgal3co7TVWG"
      },
      "id": "Rgal3co7TVWG"
    },
    {
      "cell_type": "code",
      "source": [
        "import numpy as np\n",
        "import random\n",
        "from sklearn.datasets import fetch_openml\n",
        "\n",
        "# Initialize lists to store transformed images and labels\n",
        "transformed_images = []\n",
        "transformed_labels = []\n",
        "# Iterate over the dataset and transform each image\n",
        "for idx, image in enumerate(x_train_digit):\n",
        "    original_img = image.reshape(28, 28)\n",
        "    positioner = ImagePositioner(original_img)\n",
        "    for _ in range(3):  # Repeat three times for each image ##돌리고 싶은 횟수\n",
        "        transformed_img = positioner.random_image() ##돌리고 싶은 함수\n",
        "\n",
        "        if transformed_img is not None:\n",
        "            # Flatten the image and add it to the list\n",
        "            transformed_images.append(transformed_img.flatten())\n",
        "            # Add the corresponding label\n",
        "            transformed_labels.append(y[idx])\n",
        "\n",
        "# Convert lists to NumPy arrays\n",
        "transformed_images_array = np.array(transformed_images)\n",
        "transformed_labels_array = np.array(transformed_labels)\n",
        "\n",
        "# Concatenate the original and transformed images\n",
        "combined_images = np.concatenate((x_train_digit, transformed_images_array))\n",
        "combined_labels = np.concatenate((y_train_digit, transformed_labels_array))\n",
        "\n",
        "# Save the arrays as an .npz file\n",
        "np.savez('expanded_mnist_dataset.npz', img=combined_images, label=combined_labels)"
      ],
      "metadata": {
        "id": "PZniAGhfYv78"
      },
      "id": "PZniAGhfYv78",
      "execution_count": 191,
      "outputs": []
    },
    {
      "cell_type": "code",
      "source": [
        "from sklearn.model_selection import train_test_split\n",
        "X_train, X_valid, y_train, y_valid = train_test_split(combined_images, combined_labels, test_size=0.3, random_state=42)"
      ],
      "metadata": {
        "id": "gUK5gRKLeuxv"
      },
      "id": "gUK5gRKLeuxv",
      "execution_count": 192,
      "outputs": []
    },
    {
      "cell_type": "markdown",
      "source": [
        "#여기서 부터 각 모델 돌리기"
      ],
      "metadata": {
        "id": "x2zvyGeIphAa"
      },
      "id": "x2zvyGeIphAa"
    },
    {
      "cell_type": "code",
      "source": [
        "from sklearn.ensemble import RandomForestClassifier\n",
        "from sklearn.model_selection import cross_val_score\n",
        "\n",
        "params = {'n_estimators': 200,\n",
        "    'max_depth': None,\n",
        "    'min_samples_split': 2,\n",
        "    'min_samples_leaf': 1,\n",
        "    'max_features': 'sqrt',\n",
        "\t\t'criterion': 'gini',\n",
        "\t\t'bootstrap': False,\n",
        "    'max_leaf_nodes': None,\n",
        "\t\t'min_impurity_decrease': 0}\n",
        "rnd_clf = RandomForestClassifier(**params, random_state=42)\n",
        "rnd_clf.fit(X_train, y_train)\n",
        "y_pred = rnd_clf.predict(X_valid)\n",
        "accuracy = accuracy_score(y_valid, y_pred)"
      ],
      "metadata": {
        "id": "tvwU_h3WeTCH"
      },
      "id": "tvwU_h3WeTCH",
      "execution_count": null,
      "outputs": []
    },
    {
      "cell_type": "code",
      "source": [
        "accuracy"
      ],
      "metadata": {
        "id": "yf_d9SIYfVXK"
      },
      "id": "yf_d9SIYfVXK",
      "execution_count": null,
      "outputs": []
    },
    {
      "cell_type": "code",
      "source": [
        "# Define the parameter ranges\n",
        "n_estimators_range = [500, 800, 1000]\n",
        "max_depth_range = [None, 10, 20]\n",
        "\n",
        "# Initialize variables to store the best parameters\n",
        "best_accuracy = 0\n",
        "best_parameters = {}\n",
        "\n",
        "# Iterate over all the parameter combinations\n",
        "for n_estimators in n_estimators_range:\n",
        "    for max_depth in max_depth_range:\n",
        "        rnd_clf = RandomForestClassifier(n_estimators=n_estimators, max_depth=max_depth, random_state=42)\n",
        "        rnd_clf.fit(X_train, y_train)\n",
        "        y_pred = rnd_clf.predict(X_valid)\n",
        "        accuracy = accuracy_score(y_valid, y_pred)\n",
        "        print(f'n_estimators: {n_estimators}, max_depth: {max_depth}, Accuracy: {accuracy}')\n",
        "\n",
        "        # Update the best parameters if current accuracy is higher\n",
        "        if accuracy > best_accuracy:\n",
        "            best_accuracy = accuracy\n",
        "            best_parameters = {'n_estimators': n_estimators, 'max_depth': max_depth}\n",
        "\n",
        "# Print the best parameters\n",
        "print(f'Best parameters: {best_parameters}, Best Accuracy: {best_accuracy}')\n"
      ],
      "metadata": {
        "id": "VX3hip1ifnJs"
      },
      "id": "VX3hip1ifnJs",
      "execution_count": null,
      "outputs": []
    }
  ],
  "metadata": {
    "kernelspec": {
      "display_name": "Python 3 (ipykernel)",
      "language": "python",
      "name": "python3"
    },
    "language_info": {
      "codemirror_mode": {
        "name": "ipython",
        "version": 3
      },
      "file_extension": ".py",
      "mimetype": "text/x-python",
      "name": "python",
      "nbconvert_exporter": "python",
      "pygments_lexer": "ipython3",
      "version": "3.10.9"
    },
    "colab": {
      "provenance": []
    }
  },
  "nbformat": 4,
  "nbformat_minor": 5
}